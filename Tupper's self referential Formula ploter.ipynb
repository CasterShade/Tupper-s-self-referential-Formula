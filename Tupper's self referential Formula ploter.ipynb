{
 "cells": [
  {
   "cell_type": "markdown",
   "id": "0931b8f9",
   "metadata": {},
   "source": [
    "# Tupper's Self-Referential Formula\n",
    "```\n",
    "Created on Sun Oct 10 21:35:09 2021\n",
    "\n",
    "@author: Zubair Khan\n",
    "```\n",
    "\n",
    "### One of the most unique different kind of formula to exist at the intersection of programing and mathematics\n",
    "It is really interesting that you could really have such a formula that has plot of everything in it. you just need to know where it is.\n",
    "There's one site that helps find value of y i.e. k value where that plot exists on the Y axis of the plot of this formula:\n",
    "\n",
    "`https://keelyhill.github.io/tuppers-formula/`"
   ]
  },
  {
   "cell_type": "markdown",
   "id": "4fca3989",
   "metadata": {},
   "source": [
    "Found a value of k for my plot:\n",
    "![image](https://github.com/CasterShade/Tupper-s-self-referential-Formula/blob/main/Target%20plot.png)"
   ]
  },
  {
   "cell_type": "code",
   "execution_count": 10,
   "id": "13b21f4e",
   "metadata": {},
   "outputs": [],
   "source": [
    "k=2009438748015460845581953502046539728995316656123463835348996604740778286067398208949500309731633627958305701873149144754591250337172089946048902436007969973550525841855184930578945009184686902386357207791583552848052009099506849277446683568577252715853116812240193556831799372704433641719181094824693896957462716650352894639225287921060651968663048975599826114718297793185518218105417058928621494290590148832506978213035217136175809099692520135773643651897953145689894173689165042868912879939343989505387870534917685248"
   ]
  },
  {
   "cell_type": "markdown",
   "id": "69c0b3b3",
   "metadata": {},
   "source": [
    "#### Install library if not installed"
   ]
  },
  {
   "cell_type": "code",
   "execution_count": 3,
   "id": "058495f1",
   "metadata": {},
   "outputs": [
    {
     "name": "stdout",
     "output_type": "stream",
     "text": [
      "Collecting tupper\n",
      "  Downloading tupper-0.10.1-py3-none-any.whl (7.7 kB)\n",
      "Installing collected packages: tupper\n",
      "Successfully installed tupper-0.10.1\n"
     ]
    }
   ],
   "source": [
    "!pip install tupper"
   ]
  },
  {
   "cell_type": "markdown",
   "id": "b43009cb",
   "metadata": {},
   "source": [
    "#### Importing the library for the Tupper's formula"
   ]
  },
  {
   "cell_type": "code",
   "execution_count": 7,
   "id": "4b8f185b",
   "metadata": {},
   "outputs": [],
   "source": [
    "from tupper import StringPlotter"
   ]
  },
  {
   "cell_type": "markdown",
   "id": "2456f166",
   "metadata": {},
   "source": [
    "Creating a plotter function"
   ]
  },
  {
   "cell_type": "code",
   "execution_count": 8,
   "id": "9dce39f3",
   "metadata": {},
   "outputs": [],
   "source": [
    "def tupper_plot_print(k):\n",
    "    '''\n",
    "    This mehtod takes in an argument k and \n",
    "    uses that to print the plot of tupper's Formula at y = k to k+17 from x=0 to 106\n",
    "    '''\n",
    "    sp = StringPlotter(true_mark=\"x\", false_mark=\" \")\n",
    "    for c in sp.graph(k):\n",
    "        print(c, end=\"\")"
   ]
  },
  {
   "cell_type": "markdown",
   "id": "7a8ddcef",
   "metadata": {},
   "source": [
    "Thank you for your time!"
   ]
  },
  {
   "cell_type": "code",
   "execution_count": 9,
   "id": "5d0bbb13",
   "metadata": {},
   "outputs": [
    {
     "name": "stdout",
     "output_type": "stream",
     "text": [
      "                                                                                                          \n",
      "                                                                                                          \n",
      "                                                                                                          \n",
      "                                                                                                          \n",
      "    xxxxxxxxx  x     x     x      x       x   x    x   xxxx     x                                         \n",
      "        x      x     x    x x     xx      x   x   x   x    x    x                                         \n",
      "        x      x     x   x   x    x x     x   x  x    x    x    x                                         \n",
      "        x      x     x  x     x   x  x    x   x x     x   x     x                                         \n",
      "        x      xxxxxxx  xxxxxxx   x   x   x   xx       x        x                                         \n",
      "        x      x     x  x     x   x    x  x   x x       xx      x                                         \n",
      "        x      x     x  x     x   x     x x   x  x        x     x                                         \n",
      "        x      x     x  x     x   x      xx   x   x   x    x    x                                         \n",
      "        x      x     x  x     x   x       x   x    x   x   x                                              \n",
      "                                                        xxx     x                                         \n",
      "                                                                                                          \n",
      "                                                                                                          \n",
      "                                                                                                          \n"
     ]
    }
   ],
   "source": [
    "tupper_plot_print(k)"
   ]
  },
  {
   "cell_type": "code",
   "execution_count": null,
   "id": "a58b150a",
   "metadata": {},
   "outputs": [],
   "source": []
  }
 ],
 "metadata": {
  "kernelspec": {
   "display_name": "Python 3 (ipykernel)",
   "language": "python",
   "name": "python3"
  },
  "language_info": {
   "codemirror_mode": {
    "name": "ipython",
    "version": 3
   },
   "file_extension": ".py",
   "mimetype": "text/x-python",
   "name": "python",
   "nbconvert_exporter": "python",
   "pygments_lexer": "ipython3",
   "version": "3.9.7"
  }
 },
 "nbformat": 4,
 "nbformat_minor": 5
}
